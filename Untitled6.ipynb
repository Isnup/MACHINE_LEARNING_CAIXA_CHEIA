{
  "nbformat": 4,
  "nbformat_minor": 0,
  "metadata": {
    "colab": {
      "provenance": [],
      "authorship_tag": "ABX9TyM+qMzGcBWPPeeUP1Kw3Zuw",
      "include_colab_link": true
    },
    "kernelspec": {
      "name": "python3",
      "display_name": "Python 3"
    },
    "language_info": {
      "name": "python"
    }
  },
  "cells": [
    {
      "cell_type": "markdown",
      "metadata": {
        "id": "view-in-github",
        "colab_type": "text"
      },
      "source": [
        "<a href=\"https://colab.research.google.com/github/Isnup/MACHINE_LEARNING_CAIXA_CHEIA/blob/main/Untitled6.ipynb\" target=\"_parent\"><img src=\"https://colab.research.google.com/assets/colab-badge.svg\" alt=\"Open In Colab\"/></a>"
      ]
    },
    {
      "cell_type": "code",
      "source": [
        "import os\n",
        "import io\n",
        "import base64\n",
        "from google.cloud import storage\n",
        "from google.oauth2 import service_account\n",
        "from PIL import Image\n",
        "from google.cloud import aiplatform\n",
        "from google.cloud.aiplatform.gapic.schema import predict\n",
        "from google.api_core.client_options import ClientOptions  # Importe necessário\n",
        "\n",
        "# Substitua pelos seus dados\n",
        "PROJECT_ID = \"brilliant-tower-423920-d0\"  # Substitua pelo ID do seu projeto\n",
        "REGION = \"us-central1\"\n",
        "ENDPOINT_ID = \"3774779548806152192\"\n",
        "BUCKET_NAME = \"deteccao_caixa_cheia\"\n",
        "FILE_NAME = \"Teste/VID_20240531_182848_exported_32218.jpg\"\n",
        "\n",
        "# *** Credenciais (ajuste o caminho do arquivo JSON se necessário) ***\n",
        "credentials = service_account.Credentials.from_service_account_file(\n",
        "    '/content/brilliant-tower-423920-d0-18f95ca9a6f2.json'  # Substitua pelo caminho real do arquivo\n",
        ")\n",
        "\n",
        "# Inicialização do SDK do Vertex AI\n",
        "aiplatform.init(project=PROJECT_ID, location=REGION, credentials=credentials)\n",
        "\n",
        "# Inicialize o cliente do Cloud Storage (passando as credenciais)\n",
        "storage_client = storage.Client(credentials=credentials)\n",
        "\n",
        "def predict_image_classification(project, endpoint_id, image_content, location=\"us-central1\", api_endpoint=\"us-central1-aiplatform.googleapis.com\"):\n",
        "    \"\"\"Envia uma imagem para o endpoint do Vertex AI para classificação.\"\"\"\n",
        "\n",
        "    # *** Defina o escopo de autenticação e desabilite a detecção automática de credenciais ***\n",
        "    options = ClientOptions(api_endpoint=api_endpoint)\n",
        "    client = aiplatform.gapic.PredictionServiceClient(credentials=credentials, client_options=options)\n",
        "\n",
        "    encoded_content = base64.b64encode(image_content).decode(\"utf-8\")\n",
        "    instance = predict.instance.ImageClassificationPredictionInstance(\n",
        "        content=encoded_content,\n",
        "    ).to_value()\n",
        "    instances = [instance]\n",
        "\n",
        "    parameters = predict.params.ImageClassificationPredictionParams(\n",
        "        confidence_threshold=0.5,\n",
        "        max_predictions=5,\n",
        "    ).to_value()\n",
        "\n",
        "    endpoint = client.endpoint_path(\n",
        "        project=project, location=location, endpoint=endpoint_id\n",
        "    )\n",
        "\n",
        "    try:\n",
        "        response = client.predict(\n",
        "            endpoint=endpoint, instances=instances, parameters=parameters\n",
        "        )\n",
        "\n",
        "        #  Removemos os prints antigos\n",
        "        # print(\"response\")\n",
        "        # print(\" deployed_model_id:\", response.deployed_model_id)\n",
        "\n",
        "        predictions = response.predictions\n",
        "        # for prediction in predictions:\n",
        "        #     print(\" prediction:\", dict(prediction))\n",
        "\n",
        "        # Extraindo a previsão corretamente\n",
        "        top_prediction = predictions[0]\n",
        "        predicted_class = top_prediction.get('displayNames', [None])[0]\n",
        "        confidence = top_prediction.get('confidences', [None])[0]\n",
        "\n",
        "        return predicted_class, confidence, response # Adicionado response aqui\n",
        "\n",
        "    except Exception as e:\n",
        "        print(f\"Erro durante a previsão: {e}\")\n",
        "        return None, None\n",
        "\n",
        "def download_image_from_gcs(bucket_name, file_name):\n",
        "    \"\"\"Baixa uma imagem do Cloud Storage.\"\"\"\n",
        "    bucket = storage_client.bucket(bucket_name)\n",
        "    blob = bucket.blob(file_name)\n",
        "    image_content = blob.download_as_bytes()\n",
        "    return image_content\n",
        "\n",
        "def resize_image(image_content, max_size=(512, 512)):\n",
        "    \"\"\"Redimensiona uma imagem para um tamanho máximo.\"\"\"\n",
        "    img = Image.open(io.BytesIO(image_content))\n",
        "    img.thumbnail(max_size)\n",
        "    img_byte_arr = io.BytesIO()\n",
        "    img.save(img_byte_arr, format='JPEG', optimize=True, quality=75)\n",
        "    return img_byte_arr.getvalue()\n",
        "\n",
        "# Baixe a imagem do Cloud Storage\n",
        "image_content = download_image_from_gcs(BUCKET_NAME, FILE_NAME)\n",
        "\n",
        "# Redimensione a imagem\n",
        "resized_image_content = resize_image(image_content)\n",
        "\n",
        "# Faça a previsão usando a imagem redimensionada\n",
        "predicted_class, confidence, response = predict_image_classification(\n",
        "    PROJECT_ID, ENDPOINT_ID, resized_image_content, REGION\n",
        ")\n",
        "\n",
        "# Imprima os resultados\n",
        "print(f\"deployed_model_id: {response.deployed_model_id}\")\n",
        "print(f\"prediction: {{'confidences': [{confidence}], 'ids': ['3857633522395119616'], 'displayNames': ['{predicted_class}']}}\")\n",
        "print(f\"Classe prevista: {predicted_class}\")\n",
        "print(f\"Confiança: {confidence}\")"
      ],
      "metadata": {
        "id": "BuTWCkCiy8E4",
        "outputId": "c131ecd6-0465-49db-f523-7f529ab1d22a",
        "colab": {
          "base_uri": "https://localhost:8080/"
        }
      },
      "execution_count": 15,
      "outputs": [
        {
          "output_type": "stream",
          "name": "stdout",
          "text": [
            "deployed_model_id: 2119437305398689792\n",
            "prediction: {'confidences': [0.567174792], 'ids': ['3857633522395119616'], 'displayNames': ['CAIXA_COMPLETA']}\n",
            "Classe prevista: CAIXA_COMPLETA\n",
            "Confiança: 0.567174792\n"
          ]
        }
      ]
    }
  ]
}